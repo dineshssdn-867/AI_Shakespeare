{
  "nbformat": 4,
  "nbformat_minor": 0,
  "metadata": {
    "colab": {
      "name": "AI_Shakespeare.ipynb",
      "provenance": [],
      "authorship_tag": "ABX9TyO6egL+OCQWBgVmTRQ9BLom",
      "include_colab_link": true
    },
    "kernelspec": {
      "name": "python3",
      "display_name": "Python 3"
    },
    "language_info": {
      "name": "python"
    },
    "accelerator": "GPU"
  },
  "cells": [
    {
      "cell_type": "markdown",
      "metadata": {
        "id": "view-in-github",
        "colab_type": "text"
      },
      "source": [
        "<a href=\"https://colab.research.google.com/github/dineshssdn-867/AI_Shakespeare/blob/master/AI_Shakespeare.ipynb\" target=\"_parent\"><img src=\"https://colab.research.google.com/assets/colab-badge.svg\" alt=\"Open In Colab\"/></a>"
      ]
    },
    {
      "cell_type": "markdown",
      "metadata": {
        "id": "nvGAQFzypfAR"
      },
      "source": [
        "# Importing Libraries"
      ]
    },
    {
      "cell_type": "code",
      "metadata": {
        "id": "jvhSmnchpISD"
      },
      "source": [
        "import tensorflow as tf\n",
        "import numpy as np\n",
        "import os"
      ],
      "execution_count": 1,
      "outputs": []
    },
    {
      "cell_type": "code",
      "metadata": {
        "id": "fwNim9mzpqdt"
      },
      "source": [
        "path_to_file = tf.keras.utils.get_file('shakespeare.txt', 'https://storage.googleapis.com/download.tensorflow.org/data/shakespeare.txt')"
      ],
      "execution_count": 2,
      "outputs": []
    },
    {
      "cell_type": "code",
      "metadata": {
        "id": "vOG_kPz9pzgy",
        "colab": {
          "base_uri": "https://localhost:8080/"
        },
        "outputId": "ef712da8-684d-4970-e632-a86045fef852"
      },
      "source": [
        "text = open(path_to_file, 'rb').read()\n",
        "text = text.decode(encoding='utf-8')\n",
        "print ('Total number of characters in the corpus is:', len(text))\n",
        "print('The first 100 characters of the corpus are as follows:\\n', text[:100])"
      ],
      "execution_count": 3,
      "outputs": [
        {
          "output_type": "stream",
          "text": [
            "Total number of characters in the corpus is: 1115394\n",
            "The first 100 characters of the corpus are as follows:\n",
            " First Citizen:\n",
            "Before we proceed any further, hear me speak.\n",
            "\n",
            "All:\n",
            "Speak, speak.\n",
            "\n",
            "First Citizen:\n",
            "You\n"
          ],
          "name": "stdout"
        }
      ]
    },
    {
      "cell_type": "markdown",
      "metadata": {
        "id": "kn2ZF04fp6jz"
      },
      "source": [
        "# Vectorizing the Text"
      ]
    },
    {
      "cell_type": "code",
      "metadata": {
        "id": "S0M5l_H2p85y",
        "colab": {
          "base_uri": "https://localhost:8080/"
        },
        "outputId": "92607422-90d8-4125-fe21-a55758dc7ffd"
      },
      "source": [
        "vocab = sorted(set(text))\n",
        "print ('The number of unique characters in the corpus is', len(vocab))\n",
        "print('A slice of the unique characters set:\\n', vocab[:10])"
      ],
      "execution_count": 4,
      "outputs": [
        {
          "output_type": "stream",
          "text": [
            "The number of unique characters in the corpus is 65\n",
            "A slice of the unique characters set:\n",
            " ['\\n', ' ', '!', '$', '&', \"'\", ',', '-', '.', '3']\n"
          ],
          "name": "stdout"
        }
      ]
    },
    {
      "cell_type": "code",
      "metadata": {
        "id": "YW4eJiGVqICU"
      },
      "source": [
        "# Create a mapping from unique characters to indices\n",
        "char2idx = {u:i for i, u in enumerate(vocab)}\n",
        "# Make a copy of the unique set elements in NumPy array format for later use in the decoding the predictions\n",
        "idx2char = np.array(vocab)\n",
        "# Vectorize the text with a for loop\n",
        "text_as_int = np.array([char2idx[c] for c in text])"
      ],
      "execution_count": 5,
      "outputs": []
    },
    {
      "cell_type": "markdown",
      "metadata": {
        "id": "PpGs2NfNqQaz"
      },
      "source": [
        "# Creating the Dataset"
      ]
    },
    {
      "cell_type": "code",
      "metadata": {
        "id": "igzkTbWrqLON"
      },
      "source": [
        "# Create training examples / targets\n",
        "char_dataset = tf.data.Dataset.from_tensor_slices(text_as_int) \n",
        "# for i in char_dataset.take(5): \n",
        "#   print(i.numpy())\n",
        "seq_length = 100 # The max. length for single input\n",
        "# examples_per_epoch = len(text)//(seq_length+1) # double-slash for “floor” division\n",
        "sequences = char_dataset.batch(seq_length+1, drop_remainder=True) \n",
        "# for item in sequences.take(5): \n",
        "#   print(repr(''.join(idx2char[item.numpy()])))"
      ],
      "execution_count": 6,
      "outputs": []
    },
    {
      "cell_type": "code",
      "metadata": {
        "id": "GDrZDN8WqTGj"
      },
      "source": [
        "def split_input_target(chunk):\n",
        "  input_text = chunk[:-1]\n",
        "  target_text = chunk[1:]\n",
        "  return input_text, target_text\n",
        "\n",
        "dataset = sequences.map(split_input_target)"
      ],
      "execution_count": 7,
      "outputs": []
    },
    {
      "cell_type": "code",
      "metadata": {
        "id": "RSi87cSnqXyv",
        "colab": {
          "base_uri": "https://localhost:8080/"
        },
        "outputId": "227900c5-4997-40ab-a6d6-9a15ec3faa92"
      },
      "source": [
        "BUFFER_SIZE = 10000 # TF shuffles the data only within buffers\n",
        "\n",
        "BATCH_SIZE = 64 # Batch size\n",
        "\n",
        "dataset = dataset.shuffle(BUFFER_SIZE).batch(BATCH_SIZE, drop_remainder=True)\n",
        "\n",
        "print(dataset)"
      ],
      "execution_count": 8,
      "outputs": [
        {
          "output_type": "stream",
          "text": [
            "<BatchDataset shapes: ((64, 100), (64, 100)), types: (tf.int64, tf.int64)>\n"
          ],
          "name": "stdout"
        }
      ]
    },
    {
      "cell_type": "markdown",
      "metadata": {
        "id": "kS0l2qZ7qdR0"
      },
      "source": [
        "# Building the Model"
      ]
    },
    {
      "cell_type": "code",
      "metadata": {
        "id": "eOJw8tHoqY1p"
      },
      "source": [
        "# Length of the vocabulary in chars\n",
        "vocab_size = len(vocab)\n",
        "# The embedding dimension\n",
        "embedding_dim = 256\n",
        "# Number of RNN units\n",
        "rnn_units = 1024"
      ],
      "execution_count": 9,
      "outputs": []
    },
    {
      "cell_type": "code",
      "metadata": {
        "id": "Hg36lI7-qgSf"
      },
      "source": [
        "def build_model(vocab_size, embedding_dim, rnn_units, batch_size):\n",
        "  model = tf.keras.Sequential([\n",
        "    tf.keras.layers.Embedding(vocab_size, embedding_dim,\n",
        "                              batch_input_shape=[batch_size, None]),\n",
        "    tf.keras.layers.GRU(rnn_units,\n",
        "                        return_sequences=True,\n",
        "                        stateful=True,\n",
        "                        recurrent_initializer='glorot_uniform'),\n",
        "    tf.keras.layers.Dense(vocab_size)\n",
        "  ])\n",
        "  return model"
      ],
      "execution_count": 10,
      "outputs": []
    },
    {
      "cell_type": "code",
      "metadata": {
        "id": "3DBy4xcCqh_2",
        "colab": {
          "base_uri": "https://localhost:8080/"
        },
        "outputId": "622b6d36-4306-4b4d-fed7-05ffdaabd2bf"
      },
      "source": [
        "model = build_model(\n",
        "    vocab_size = len(vocab), # no. of unique characters\n",
        "    embedding_dim=embedding_dim, # 256\n",
        "    rnn_units=rnn_units, # 1024\n",
        "    batch_size=BATCH_SIZE)  # 64 for the traning\n",
        "\n",
        "model.summary()"
      ],
      "execution_count": 11,
      "outputs": [
        {
          "output_type": "stream",
          "text": [
            "Model: \"sequential\"\n",
            "_________________________________________________________________\n",
            "Layer (type)                 Output Shape              Param #   \n",
            "=================================================================\n",
            "embedding (Embedding)        (64, None, 256)           16640     \n",
            "_________________________________________________________________\n",
            "gru (GRU)                    (64, None, 1024)          3938304   \n",
            "_________________________________________________________________\n",
            "dense (Dense)                (64, None, 65)            66625     \n",
            "=================================================================\n",
            "Total params: 4,021,569\n",
            "Trainable params: 4,021,569\n",
            "Non-trainable params: 0\n",
            "_________________________________________________________________\n"
          ],
          "name": "stdout"
        }
      ]
    },
    {
      "cell_type": "markdown",
      "metadata": {
        "id": "of4cAdAgqlb8"
      },
      "source": [
        "# Compiling and Training"
      ]
    },
    {
      "cell_type": "code",
      "metadata": {
        "id": "hIkDp4CrqjfW"
      },
      "source": [
        "def loss(labels, logits):\n",
        "  return tf.keras.losses.sparse_categorical_crossentropy(labels, logits, from_logits=True)\n",
        "\n",
        "# example_batch_loss  = loss(target_example_batch, example_batch_predictions)\n",
        "# print(\"Prediction shape: \", example_batch_predictions.shape, \" (batch_size, sequence_length, vocab_size)\")\n",
        "# print(\"scalar_loss:      \", example_batch_loss.numpy().mean())\n",
        "\n",
        "model.compile(optimizer='adam', loss=loss)"
      ],
      "execution_count": 12,
      "outputs": []
    },
    {
      "cell_type": "code",
      "metadata": {
        "id": "jhMyn2zHqocA"
      },
      "source": [
        "# Directory where the checkpoints will be saved\n",
        "checkpoint_dir = './training_checkpoints'\n",
        "# Name of the checkpoint files\n",
        "checkpoint_prefix = os.path.join(checkpoint_dir, \"ckpt_{epoch}\")\n",
        "\n",
        "checkpoint_callback=tf.keras.callbacks.ModelCheckpoint(\n",
        "    filepath=checkpoint_prefix,\n",
        "    save_weights_only=True)"
      ],
      "execution_count": 13,
      "outputs": []
    },
    {
      "cell_type": "code",
      "metadata": {
        "id": "AqhIG3QsqqW6",
        "colab": {
          "base_uri": "https://localhost:8080/"
        },
        "outputId": "1ffb95d5-cd2b-4637-e5fa-394c6a93e023"
      },
      "source": [
        "EPOCHS = 48\n",
        "history = model.fit(dataset, \n",
        "                    epochs=EPOCHS, \n",
        "                    callbacks=[checkpoint_callback])"
      ],
      "execution_count": 14,
      "outputs": [
        {
          "output_type": "stream",
          "text": [
            "Epoch 1/48\n",
            "172/172 [==============================] - 12s 53ms/step - loss: 2.6995\n",
            "Epoch 2/48\n",
            "172/172 [==============================] - 10s 53ms/step - loss: 1.9631\n",
            "Epoch 3/48\n",
            "172/172 [==============================] - 10s 53ms/step - loss: 1.6924\n",
            "Epoch 4/48\n",
            "172/172 [==============================] - 10s 54ms/step - loss: 1.5419\n",
            "Epoch 5/48\n",
            "172/172 [==============================] - 10s 54ms/step - loss: 1.4528\n",
            "Epoch 6/48\n",
            "172/172 [==============================] - 10s 55ms/step - loss: 1.3931\n",
            "Epoch 7/48\n",
            "172/172 [==============================] - 10s 54ms/step - loss: 1.3465\n",
            "Epoch 8/48\n",
            "172/172 [==============================] - 10s 54ms/step - loss: 1.3081\n",
            "Epoch 9/48\n",
            "172/172 [==============================] - 10s 54ms/step - loss: 1.2732\n",
            "Epoch 10/48\n",
            "172/172 [==============================] - 10s 54ms/step - loss: 1.2395\n",
            "Epoch 11/48\n",
            "172/172 [==============================] - 10s 55ms/step - loss: 1.2068\n",
            "Epoch 12/48\n",
            "172/172 [==============================] - 10s 55ms/step - loss: 1.1749\n",
            "Epoch 13/48\n",
            "172/172 [==============================] - 10s 55ms/step - loss: 1.1417\n",
            "Epoch 14/48\n",
            "172/172 [==============================] - 10s 55ms/step - loss: 1.1086\n",
            "Epoch 15/48\n",
            "172/172 [==============================] - 10s 54ms/step - loss: 1.0730\n",
            "Epoch 16/48\n",
            "172/172 [==============================] - 10s 54ms/step - loss: 1.0371\n",
            "Epoch 17/48\n",
            "172/172 [==============================] - 10s 54ms/step - loss: 1.0004\n",
            "Epoch 18/48\n",
            "172/172 [==============================] - 10s 54ms/step - loss: 0.9656\n",
            "Epoch 19/48\n",
            "172/172 [==============================] - 10s 55ms/step - loss: 0.9301\n",
            "Epoch 20/48\n",
            "172/172 [==============================] - 10s 55ms/step - loss: 0.8958\n",
            "Epoch 21/48\n",
            "172/172 [==============================] - 10s 55ms/step - loss: 0.8648\n",
            "Epoch 22/48\n",
            "172/172 [==============================] - 10s 54ms/step - loss: 0.8361\n",
            "Epoch 23/48\n",
            "172/172 [==============================] - 10s 54ms/step - loss: 0.8093\n",
            "Epoch 24/48\n",
            "172/172 [==============================] - 10s 54ms/step - loss: 0.7851\n",
            "Epoch 25/48\n",
            "172/172 [==============================] - 10s 54ms/step - loss: 0.7638\n",
            "Epoch 26/48\n",
            "172/172 [==============================] - 10s 55ms/step - loss: 0.7439\n",
            "Epoch 27/48\n",
            "172/172 [==============================] - 10s 55ms/step - loss: 0.7293\n",
            "Epoch 28/48\n",
            "172/172 [==============================] - 10s 55ms/step - loss: 0.7149\n",
            "Epoch 29/48\n",
            "172/172 [==============================] - 10s 55ms/step - loss: 0.7026\n",
            "Epoch 30/48\n",
            "172/172 [==============================] - 10s 55ms/step - loss: 0.6924\n",
            "Epoch 31/48\n",
            "172/172 [==============================] - 10s 54ms/step - loss: 0.6840\n",
            "Epoch 32/48\n",
            "172/172 [==============================] - 10s 54ms/step - loss: 0.6760\n",
            "Epoch 33/48\n",
            "172/172 [==============================] - 10s 54ms/step - loss: 0.6655\n",
            "Epoch 34/48\n",
            "172/172 [==============================] - 10s 54ms/step - loss: 0.6598\n",
            "Epoch 35/48\n",
            "172/172 [==============================] - 10s 54ms/step - loss: 0.6567\n",
            "Epoch 36/48\n",
            "172/172 [==============================] - 10s 55ms/step - loss: 0.6525\n",
            "Epoch 37/48\n",
            "172/172 [==============================] - 10s 55ms/step - loss: 0.6479\n",
            "Epoch 38/48\n",
            "172/172 [==============================] - 10s 55ms/step - loss: 0.6458\n",
            "Epoch 39/48\n",
            "172/172 [==============================] - 10s 54ms/step - loss: 0.6428\n",
            "Epoch 40/48\n",
            "172/172 [==============================] - 10s 55ms/step - loss: 0.6405\n",
            "Epoch 41/48\n",
            "172/172 [==============================] - 10s 54ms/step - loss: 0.6398\n",
            "Epoch 42/48\n",
            "172/172 [==============================] - 10s 55ms/step - loss: 0.6382\n",
            "Epoch 43/48\n",
            "172/172 [==============================] - 10s 54ms/step - loss: 0.6362\n",
            "Epoch 44/48\n",
            "172/172 [==============================] - 10s 54ms/step - loss: 0.6326\n",
            "Epoch 45/48\n",
            "172/172 [==============================] - 10s 55ms/step - loss: 0.6351\n",
            "Epoch 46/48\n",
            "172/172 [==============================] - 10s 55ms/step - loss: 0.6355\n",
            "Epoch 47/48\n",
            "172/172 [==============================] - 10s 54ms/step - loss: 0.6352\n",
            "Epoch 48/48\n",
            "172/172 [==============================] - 10s 54ms/step - loss: 0.6349\n"
          ],
          "name": "stdout"
        }
      ]
    },
    {
      "cell_type": "markdown",
      "metadata": {
        "id": "WmdEm1Bzq287"
      },
      "source": [
        "# Generating New Text"
      ]
    },
    {
      "cell_type": "code",
      "metadata": {
        "id": "JI_bTq0_q34X",
        "colab": {
          "base_uri": "https://localhost:8080/",
          "height": 35
        },
        "outputId": "137f8d79-0840-47c6-9965-da39adc8c115"
      },
      "source": [
        "tf.train.latest_checkpoint(checkpoint_dir)"
      ],
      "execution_count": 15,
      "outputs": [
        {
          "output_type": "execute_result",
          "data": {
            "application/vnd.google.colaboratory.intrinsic+json": {
              "type": "string"
            },
            "text/plain": [
              "'./training_checkpoints/ckpt_48'"
            ]
          },
          "metadata": {
            "tags": []
          },
          "execution_count": 15
        }
      ]
    },
    {
      "cell_type": "code",
      "metadata": {
        "colab": {
          "base_uri": "https://localhost:8080/"
        },
        "id": "afAsuLUGq68C",
        "outputId": "b63b579e-6893-4f1f-feed-43babbbe1499"
      },
      "source": [
        "model = build_model(vocab_size, embedding_dim, rnn_units, batch_size=1)\n",
        "model.load_weights(tf.train.latest_checkpoint(checkpoint_dir))\n",
        "model.build(tf.TensorShape([1, None]))\n",
        "model.summary()"
      ],
      "execution_count": 16,
      "outputs": [
        {
          "output_type": "stream",
          "text": [
            "Model: \"sequential_1\"\n",
            "_________________________________________________________________\n",
            "Layer (type)                 Output Shape              Param #   \n",
            "=================================================================\n",
            "embedding_1 (Embedding)      (1, None, 256)            16640     \n",
            "_________________________________________________________________\n",
            "gru_1 (GRU)                  (1, None, 1024)           3938304   \n",
            "_________________________________________________________________\n",
            "dense_1 (Dense)              (1, None, 65)             66625     \n",
            "=================================================================\n",
            "Total params: 4,021,569\n",
            "Trainable params: 4,021,569\n",
            "Non-trainable params: 0\n",
            "_________________________________________________________________\n"
          ],
          "name": "stdout"
        }
      ]
    },
    {
      "cell_type": "code",
      "metadata": {
        "id": "3mQwub5Kq9Sh"
      },
      "source": [
        "def generate_text(model, num_generate, temperature, start_string):\n",
        "  input_eval = [char2idx[s] for s in start_string] # string to numbers (vectorizing)\n",
        "  input_eval = tf.expand_dims(input_eval, 0) # dimension expansion\n",
        "  text_generated = [] # Empty string to store our results\n",
        "  model.reset_states() # Clears the hidden states in the RNN\n",
        "\n",
        "  for i in range(num_generate): #Run a loop for number of characters to generate\n",
        "    predictions = model(input_eval) # prediction for single character\n",
        "    predictions = tf.squeeze(predictions, 0) # remove the batch dimension\n",
        "\n",
        "    # using a categorical distribution to predict the character returned by the model\n",
        "    # higher temperature increases the probability of selecting a less likely character\n",
        "    # lower --> more predictable\n",
        "    predictions = predictions / temperature\n",
        "    predicted_id = tf.random.categorical(predictions, num_samples=1)[-1,0].numpy()\n",
        "\n",
        "    # The predicted character as the next input to the model\n",
        "    # along with the previous hidden state\n",
        "    # So the model makes the next prediction based on the previous character\n",
        "    input_eval = tf.expand_dims([predicted_id], 0) \n",
        "    # Also devectorize the number and add to the generated text\n",
        "    text_generated.append(idx2char[predicted_id]) \n",
        "\n",
        "  return (start_string + ''.join(text_generated))"
      ],
      "execution_count": 17,
      "outputs": []
    },
    {
      "cell_type": "code",
      "metadata": {
        "id": "B7UF0kNOq_vo",
        "colab": {
          "base_uri": "https://localhost:8080/"
        },
        "outputId": "1616a421-cad3-4e44-9be0-d40a9af63891"
      },
      "source": [
        "generated_text = generate_text(\n",
        "                    model, \n",
        "                    num_generate=500, \n",
        "                    temperature=1, \n",
        "                    start_string=u\"Hate\")\n",
        "print(generated_text)"
      ],
      "execution_count": 18,
      "outputs": [
        {
          "output_type": "stream",
          "text": [
            "Hater cause\n",
            "Of Norfolk, give me thy humour prosperous\n",
            "Was drown'd the character, Vargaret the downfall of him and himself, beseeming on;\n",
            "Ah, mouthnon, as I am, rush, old York then both yields to admoral,\n",
            "Could I am, but remember'st affliate,\n",
            "And wilt encounter with child. O woful son!\n",
            "Occasions, I loved thee of,\n",
            "Unless thou could, disinherio, who is less\n",
            "To deny them after golden close now; sweet maid, we may appeal'd,\n",
            "Nor yours for life and varley, learn, be not a flail;\n",
            "For well we know, we shall \n"
          ],
          "name": "stdout"
        }
      ]
    }
  ]
}