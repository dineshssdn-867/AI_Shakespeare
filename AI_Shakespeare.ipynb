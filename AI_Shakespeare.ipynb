{
  "nbformat": 4,
  "nbformat_minor": 0,
  "metadata": {
    "colab": {
      "name": "AI_Shakespeare.ipynb",
      "provenance": [],
      "authorship_tag": "ABX9TyPMOEav5xc7GBd36QSSxJWo",
      "include_colab_link": true
    },
    "kernelspec": {
      "name": "python3",
      "display_name": "Python 3"
    },
    "language_info": {
      "name": "python"
    },
    "accelerator": "GPU"
  },
  "cells": [
    {
      "cell_type": "markdown",
      "metadata": {
        "id": "view-in-github",
        "colab_type": "text"
      },
      "source": [
        "<a href=\"https://colab.research.google.com/github/dineshssdn-867/AI_Shakespeare/blob/master/AI_Shakespeare.ipynb\" target=\"_parent\"><img src=\"https://colab.research.google.com/assets/colab-badge.svg\" alt=\"Open In Colab\"/></a>"
      ]
    },
    {
      "cell_type": "markdown",
      "metadata": {
        "id": "nvGAQFzypfAR"
      },
      "source": [
        "# Importing Libraries"
      ]
    },
    {
      "cell_type": "code",
      "metadata": {
        "id": "jvhSmnchpISD"
      },
      "source": [
        "import tensorflow as tf\n",
        "import numpy as np\n",
        "import os"
      ],
      "execution_count": 1,
      "outputs": []
    },
    {
      "cell_type": "code",
      "metadata": {
        "id": "fwNim9mzpqdt"
      },
      "source": [
        "path_to_file = tf.keras.utils.get_file('shakespeare.txt', 'https://storage.googleapis.com/download.tensorflow.org/data/shakespeare.txt')\n"
      ],
      "execution_count": 2,
      "outputs": []
    },
    {
      "cell_type": "code",
      "metadata": {
        "colab": {
          "base_uri": "https://localhost:8080/"
        },
        "id": "vOG_kPz9pzgy",
        "outputId": "a9bade58-9bdc-4165-8e69-adf69f03c13a"
      },
      "source": [
        "text = open(path_to_file, 'rb').read()\n",
        "text = text.decode(encoding='utf-8')\n",
        "print ('Total number of characters in the corpus is:', len(text))\n",
        "print('The first 100 characters of the corpus are as follows:\\n', text[:100])"
      ],
      "execution_count": 3,
      "outputs": [
        {
          "output_type": "stream",
          "text": [
            "Total number of characters in the corpus is: 1115394\n",
            "The first 100 characters of the corpus are as follows:\n",
            " First Citizen:\n",
            "Before we proceed any further, hear me speak.\n",
            "\n",
            "All:\n",
            "Speak, speak.\n",
            "\n",
            "First Citizen:\n",
            "You\n"
          ],
          "name": "stdout"
        }
      ]
    },
    {
      "cell_type": "markdown",
      "metadata": {
        "id": "kn2ZF04fp6jz"
      },
      "source": [
        "# Vectorizing the Text"
      ]
    },
    {
      "cell_type": "code",
      "metadata": {
        "colab": {
          "base_uri": "https://localhost:8080/"
        },
        "id": "S0M5l_H2p85y",
        "outputId": "a564d701-d664-4446-fe07-fedeedfa1ba3"
      },
      "source": [
        "vocab = sorted(set(text))\n",
        "print ('The number of unique characters in the corpus is', len(vocab))\n",
        "print('A slice of the unique characters set:\\n', vocab[:10])"
      ],
      "execution_count": 4,
      "outputs": [
        {
          "output_type": "stream",
          "text": [
            "The number of unique characters in the corpus is 65\n",
            "A slice of the unique characters set:\n",
            " ['\\n', ' ', '!', '$', '&', \"'\", ',', '-', '.', '3']\n"
          ],
          "name": "stdout"
        }
      ]
    },
    {
      "cell_type": "code",
      "metadata": {
        "id": "YW4eJiGVqICU"
      },
      "source": [
        "# Create a mapping from unique characters to indices\n",
        "char2idx = {u:i for i, u in enumerate(vocab)}\n",
        "# Make a copy of the unique set elements in NumPy array format for later use in the decoding the predictions\n",
        "idx2char = np.array(vocab)\n",
        "# Vectorize the text with a for loop\n",
        "text_as_int = np.array([char2idx[c] for c in text])"
      ],
      "execution_count": 5,
      "outputs": []
    },
    {
      "cell_type": "markdown",
      "metadata": {
        "id": "PpGs2NfNqQaz"
      },
      "source": [
        "# Creating the Dataset"
      ]
    },
    {
      "cell_type": "code",
      "metadata": {
        "id": "igzkTbWrqLON"
      },
      "source": [
        "# Create training examples / targets\n",
        "char_dataset = tf.data.Dataset.from_tensor_slices(text_as_int) \n",
        "# for i in char_dataset.take(5): \n",
        "#   print(i.numpy())\n",
        "seq_length = 100 # The max. length for single input\n",
        "# examples_per_epoch = len(text)//(seq_length+1) # double-slash for “floor” division\n",
        "sequences = char_dataset.batch(seq_length+1, drop_remainder=True) \n",
        "# for item in sequences.take(5): \n",
        "#   print(repr(''.join(idx2char[item.numpy()])))"
      ],
      "execution_count": 6,
      "outputs": []
    },
    {
      "cell_type": "code",
      "metadata": {
        "id": "GDrZDN8WqTGj"
      },
      "source": [
        "def split_input_target(chunk):\n",
        "  input_text = chunk[:-1]\n",
        "  target_text = chunk[1:]\n",
        "  return input_text, target_text\n",
        "\n",
        "dataset = sequences.map(split_input_target)"
      ],
      "execution_count": 7,
      "outputs": []
    },
    {
      "cell_type": "code",
      "metadata": {
        "colab": {
          "base_uri": "https://localhost:8080/"
        },
        "id": "RSi87cSnqXyv",
        "outputId": "72702b33-93e9-4a5a-cf2e-04aec15e0402"
      },
      "source": [
        "BUFFER_SIZE = 10000 # TF shuffles the data only within buffers\n",
        "\n",
        "BATCH_SIZE = 64 # Batch size\n",
        "\n",
        "dataset = dataset.shuffle(BUFFER_SIZE).batch(BATCH_SIZE, drop_remainder=True)\n",
        "\n",
        "print(dataset)"
      ],
      "execution_count": 8,
      "outputs": [
        {
          "output_type": "stream",
          "text": [
            "<BatchDataset shapes: ((64, 100), (64, 100)), types: (tf.int64, tf.int64)>\n"
          ],
          "name": "stdout"
        }
      ]
    },
    {
      "cell_type": "markdown",
      "metadata": {
        "id": "kS0l2qZ7qdR0"
      },
      "source": [
        "# Building the Model"
      ]
    },
    {
      "cell_type": "code",
      "metadata": {
        "id": "eOJw8tHoqY1p"
      },
      "source": [
        "# Length of the vocabulary in chars\n",
        "vocab_size = len(vocab)\n",
        "# The embedding dimension\n",
        "embedding_dim = 256\n",
        "# Number of RNN units\n",
        "rnn_units = 1024"
      ],
      "execution_count": 9,
      "outputs": []
    },
    {
      "cell_type": "code",
      "metadata": {
        "id": "Hg36lI7-qgSf"
      },
      "source": [
        "def build_model(vocab_size, embedding_dim, rnn_units, batch_size):\n",
        "  model = tf.keras.Sequential([\n",
        "    tf.keras.layers.Embedding(vocab_size, embedding_dim,\n",
        "                              batch_input_shape=[batch_size, None]),\n",
        "    tf.keras.layers.GRU(rnn_units,\n",
        "                        return_sequences=True,\n",
        "                        stateful=True,\n",
        "                        recurrent_initializer='glorot_uniform'),\n",
        "    tf.keras.layers.Dense(vocab_size)\n",
        "  ])\n",
        "  return model"
      ],
      "execution_count": 10,
      "outputs": []
    },
    {
      "cell_type": "code",
      "metadata": {
        "colab": {
          "base_uri": "https://localhost:8080/"
        },
        "id": "3DBy4xcCqh_2",
        "outputId": "9dde223a-d03b-41ab-d3ef-b502168a1782"
      },
      "source": [
        "model = build_model(\n",
        "    vocab_size = len(vocab), # no. of unique characters\n",
        "    embedding_dim=embedding_dim, # 256\n",
        "    rnn_units=rnn_units, # 1024\n",
        "    batch_size=BATCH_SIZE)  # 64 for the traning\n",
        "\n",
        "model.summary()"
      ],
      "execution_count": 11,
      "outputs": [
        {
          "output_type": "stream",
          "text": [
            "Model: \"sequential\"\n",
            "_________________________________________________________________\n",
            "Layer (type)                 Output Shape              Param #   \n",
            "=================================================================\n",
            "embedding (Embedding)        (64, None, 256)           16640     \n",
            "_________________________________________________________________\n",
            "gru (GRU)                    (64, None, 1024)          3938304   \n",
            "_________________________________________________________________\n",
            "dense (Dense)                (64, None, 65)            66625     \n",
            "=================================================================\n",
            "Total params: 4,021,569\n",
            "Trainable params: 4,021,569\n",
            "Non-trainable params: 0\n",
            "_________________________________________________________________\n"
          ],
          "name": "stdout"
        }
      ]
    },
    {
      "cell_type": "markdown",
      "metadata": {
        "id": "of4cAdAgqlb8"
      },
      "source": [
        "# Compiling and Training"
      ]
    },
    {
      "cell_type": "code",
      "metadata": {
        "id": "hIkDp4CrqjfW"
      },
      "source": [
        "def loss(labels, logits):\n",
        "  return tf.keras.losses.sparse_categorical_crossentropy(labels, logits, from_logits=True)\n",
        "\n",
        "# example_batch_loss  = loss(target_example_batch, example_batch_predictions)\n",
        "# print(\"Prediction shape: \", example_batch_predictions.shape, \" (batch_size, sequence_length, vocab_size)\")\n",
        "# print(\"scalar_loss:      \", example_batch_loss.numpy().mean())\n",
        "\n",
        "model.compile(optimizer='adam', loss=loss)"
      ],
      "execution_count": 12,
      "outputs": []
    },
    {
      "cell_type": "code",
      "metadata": {
        "id": "jhMyn2zHqocA"
      },
      "source": [
        "# Directory where the checkpoints will be saved\n",
        "checkpoint_dir = './training_checkpoints'\n",
        "# Name of the checkpoint files\n",
        "checkpoint_prefix = os.path.join(checkpoint_dir, \"ckpt_{epoch}\")\n",
        "\n",
        "checkpoint_callback=tf.keras.callbacks.ModelCheckpoint(\n",
        "    filepath=checkpoint_prefix,\n",
        "    save_weights_only=True)"
      ],
      "execution_count": 13,
      "outputs": []
    },
    {
      "cell_type": "code",
      "metadata": {
        "colab": {
          "base_uri": "https://localhost:8080/"
        },
        "id": "AqhIG3QsqqW6",
        "outputId": "5bc81005-d18b-4db1-9e02-eaea0eafd683"
      },
      "source": [
        "EPOCHS = 40\n",
        "history = model.fit(dataset, \n",
        "                    epochs=EPOCHS, \n",
        "                    callbacks=[checkpoint_callback])"
      ],
      "execution_count": 14,
      "outputs": [
        {
          "output_type": "stream",
          "text": [
            "Epoch 1/40\n",
            "172/172 [==============================] - 13s 56ms/step - loss: 2.6862\n",
            "Epoch 2/40\n",
            "172/172 [==============================] - 11s 58ms/step - loss: 1.9701\n",
            "Epoch 3/40\n",
            "172/172 [==============================] - 11s 59ms/step - loss: 1.7030\n",
            "Epoch 4/40\n",
            "172/172 [==============================] - 11s 60ms/step - loss: 1.5516\n",
            "Epoch 5/40\n",
            "172/172 [==============================] - 11s 59ms/step - loss: 1.4624\n",
            "Epoch 6/40\n",
            "172/172 [==============================] - 11s 57ms/step - loss: 1.4014\n",
            "Epoch 7/40\n",
            "172/172 [==============================] - 11s 57ms/step - loss: 1.3566\n",
            "Epoch 8/40\n",
            "172/172 [==============================] - 11s 59ms/step - loss: 1.3170\n",
            "Epoch 9/40\n",
            "172/172 [==============================] - 11s 59ms/step - loss: 1.2829\n",
            "Epoch 10/40\n",
            "172/172 [==============================] - 11s 59ms/step - loss: 1.2522\n",
            "Epoch 11/40\n",
            "172/172 [==============================] - 11s 57ms/step - loss: 1.2190\n",
            "Epoch 12/40\n",
            "172/172 [==============================] - 11s 58ms/step - loss: 1.1872\n",
            "Epoch 13/40\n",
            "172/172 [==============================] - 11s 60ms/step - loss: 1.1561\n",
            "Epoch 14/40\n",
            "172/172 [==============================] - 11s 61ms/step - loss: 1.1213\n",
            "Epoch 15/40\n",
            "172/172 [==============================] - 11s 57ms/step - loss: 1.0877\n",
            "Epoch 16/40\n",
            "172/172 [==============================] - 11s 58ms/step - loss: 1.0536\n",
            "Epoch 17/40\n",
            "172/172 [==============================] - 11s 58ms/step - loss: 1.0165\n",
            "Epoch 18/40\n",
            "172/172 [==============================] - 11s 59ms/step - loss: 0.9820\n",
            "Epoch 19/40\n",
            "172/172 [==============================] - 11s 61ms/step - loss: 0.9470\n",
            "Epoch 20/40\n",
            "172/172 [==============================] - 11s 58ms/step - loss: 0.9122\n",
            "Epoch 21/40\n",
            "172/172 [==============================] - 11s 58ms/step - loss: 0.8806\n",
            "Epoch 22/40\n",
            "172/172 [==============================] - 11s 59ms/step - loss: 0.8503\n",
            "Epoch 23/40\n",
            "172/172 [==============================] - 11s 58ms/step - loss: 0.8223\n",
            "Epoch 24/40\n",
            "172/172 [==============================] - 11s 59ms/step - loss: 0.7972\n",
            "Epoch 25/40\n",
            "172/172 [==============================] - 11s 58ms/step - loss: 0.7755\n",
            "Epoch 26/40\n",
            "172/172 [==============================] - 11s 58ms/step - loss: 0.7553\n",
            "Epoch 27/40\n",
            "172/172 [==============================] - 11s 59ms/step - loss: 0.7375\n",
            "Epoch 28/40\n",
            "172/172 [==============================] - 11s 58ms/step - loss: 0.7229\n",
            "Epoch 29/40\n",
            "172/172 [==============================] - 11s 58ms/step - loss: 0.7107\n",
            "Epoch 30/40\n",
            "172/172 [==============================] - 11s 58ms/step - loss: 0.7002\n",
            "Epoch 31/40\n",
            "172/172 [==============================] - 11s 59ms/step - loss: 0.6885\n",
            "Epoch 32/40\n",
            "172/172 [==============================] - 11s 59ms/step - loss: 0.6799\n",
            "Epoch 33/40\n",
            "172/172 [==============================] - 11s 58ms/step - loss: 0.6695\n",
            "Epoch 34/40\n",
            "172/172 [==============================] - 11s 58ms/step - loss: 0.6656\n",
            "Epoch 35/40\n",
            "172/172 [==============================] - 11s 59ms/step - loss: 0.6608\n",
            "Epoch 36/40\n",
            "172/172 [==============================] - 11s 58ms/step - loss: 0.6567\n",
            "Epoch 37/40\n",
            "172/172 [==============================] - 11s 57ms/step - loss: 0.6516\n",
            "Epoch 38/40\n",
            "172/172 [==============================] - 11s 58ms/step - loss: 0.6479\n",
            "Epoch 39/40\n",
            "172/172 [==============================] - 11s 58ms/step - loss: 0.6443\n",
            "Epoch 40/40\n",
            "172/172 [==============================] - 11s 58ms/step - loss: 0.6415\n"
          ],
          "name": "stdout"
        }
      ]
    },
    {
      "cell_type": "markdown",
      "metadata": {
        "id": "WmdEm1Bzq287"
      },
      "source": [
        "# Generating New Text"
      ]
    },
    {
      "cell_type": "code",
      "metadata": {
        "colab": {
          "base_uri": "https://localhost:8080/",
          "height": 35
        },
        "id": "JI_bTq0_q34X",
        "outputId": "e6764bef-df93-4b30-b80b-5d71a84ea891"
      },
      "source": [
        "tf.train.latest_checkpoint(checkpoint_dir)"
      ],
      "execution_count": 15,
      "outputs": [
        {
          "output_type": "execute_result",
          "data": {
            "application/vnd.google.colaboratory.intrinsic+json": {
              "type": "string"
            },
            "text/plain": [
              "'./training_checkpoints/ckpt_40'"
            ]
          },
          "metadata": {
            "tags": []
          },
          "execution_count": 15
        }
      ]
    },
    {
      "cell_type": "code",
      "metadata": {
        "colab": {
          "base_uri": "https://localhost:8080/"
        },
        "id": "afAsuLUGq68C",
        "outputId": "63dac9aa-f8af-4118-bde5-3f1e6986a896"
      },
      "source": [
        "model = build_model(vocab_size, embedding_dim, rnn_units, batch_size=1)\n",
        "model.load_weights(tf.train.latest_checkpoint(checkpoint_dir))\n",
        "model.build(tf.TensorShape([1, None]))\n",
        "model.summary()"
      ],
      "execution_count": 16,
      "outputs": [
        {
          "output_type": "stream",
          "text": [
            "Model: \"sequential_1\"\n",
            "_________________________________________________________________\n",
            "Layer (type)                 Output Shape              Param #   \n",
            "=================================================================\n",
            "embedding_1 (Embedding)      (1, None, 256)            16640     \n",
            "_________________________________________________________________\n",
            "gru_1 (GRU)                  (1, None, 1024)           3938304   \n",
            "_________________________________________________________________\n",
            "dense_1 (Dense)              (1, None, 65)             66625     \n",
            "=================================================================\n",
            "Total params: 4,021,569\n",
            "Trainable params: 4,021,569\n",
            "Non-trainable params: 0\n",
            "_________________________________________________________________\n"
          ],
          "name": "stdout"
        }
      ]
    },
    {
      "cell_type": "code",
      "metadata": {
        "id": "3mQwub5Kq9Sh"
      },
      "source": [
        "def generate_text(model, num_generate, temperature, start_string):\n",
        "  input_eval = [char2idx[s] for s in start_string] # string to numbers (vectorizing)\n",
        "  input_eval = tf.expand_dims(input_eval, 0) # dimension expansion\n",
        "  text_generated = [] # Empty string to store our results\n",
        "  model.reset_states() # Clears the hidden states in the RNN\n",
        "\n",
        "  for i in range(num_generate): #Run a loop for number of characters to generate\n",
        "    predictions = model(input_eval) # prediction for single character\n",
        "    predictions = tf.squeeze(predictions, 0) # remove the batch dimension\n",
        "\n",
        "    # using a categorical distribution to predict the character returned by the model\n",
        "    # higher temperature increases the probability of selecting a less likely character\n",
        "    # lower --> more predictable\n",
        "    predictions = predictions / temperature\n",
        "    predicted_id = tf.random.categorical(predictions, num_samples=1)[-1,0].numpy()\n",
        "\n",
        "    # The predicted character as the next input to the model\n",
        "    # along with the previous hidden state\n",
        "    # So the model makes the next prediction based on the previous character\n",
        "    input_eval = tf.expand_dims([predicted_id], 0) \n",
        "    # Also devectorize the number and add to the generated text\n",
        "    text_generated.append(idx2char[predicted_id]) \n",
        "\n",
        "  return (start_string + ''.join(text_generated))"
      ],
      "execution_count": 17,
      "outputs": []
    },
    {
      "cell_type": "code",
      "metadata": {
        "colab": {
          "base_uri": "https://localhost:8080/"
        },
        "id": "B7UF0kNOq_vo",
        "outputId": "89a75ef4-1f05-4f92-cda2-8f541d39e61a"
      },
      "source": [
        "generated_text = generate_text(\n",
        "                    model, \n",
        "                    num_generate=500, \n",
        "                    temperature=1, \n",
        "                    start_string=u\"Hate\")\n",
        "print(generated_text)"
      ],
      "execution_count": 23,
      "outputs": [
        {
          "output_type": "stream",
          "text": [
            "Insomniate,--I be heark'd with knock;\n",
            "The King of Norfolk, Thomas Mowbray,\n",
            "Have wrong yourself with unsturing water: I say it\n",
            "should be constant in again.\n",
            "\n",
            "Pedant:\n",
            "Ay, sir, withyou tread the case, your ears never parden him, your name\n",
            "Is not his harm.\n",
            "\n",
            "VIRGINIUS:\n",
            "Blessed up; when?\n",
            "Nay, let them forth to crave.\n",
            "\n",
            "Nurse:\n",
            "His name? a know! more much cozerets up,\n",
            "Is guilty of: but when I have been frea,\n",
            "And not thyself we were u hasty Coriolanus!\n",
            "\n",
            "CLARENCE:\n",
            "I willingly as if at me for\n",
            "his treasons of the rea\n"
          ],
          "name": "stdout"
        }
      ]
    }
  ]
}