{
  "nbformat": 4,
  "nbformat_minor": 0,
  "metadata": {
    "colab": {
      "name": "AI_Shakespeare.ipynb",
      "provenance": [],
      "authorship_tag": "ABX9TyPTjfxjLdKuRc1YHkEis0Ny",
      "include_colab_link": true
    },
    "kernelspec": {
      "name": "python3",
      "display_name": "Python 3"
    },
    "language_info": {
      "name": "python"
    },
    "accelerator": "GPU"
  },
  "cells": [
    {
      "cell_type": "markdown",
      "metadata": {
        "id": "view-in-github",
        "colab_type": "text"
      },
      "source": [
        "<a href=\"https://colab.research.google.com/github/dineshssdn-867/AI_Shakespeare/blob/master/AI_Shakespeare.ipynb\" target=\"_parent\"><img src=\"https://colab.research.google.com/assets/colab-badge.svg\" alt=\"Open In Colab\"/></a>"
      ]
    },
    {
      "cell_type": "markdown",
      "metadata": {
        "id": "nvGAQFzypfAR"
      },
      "source": [
        "# Importing Libraries"
      ]
    },
    {
      "cell_type": "code",
      "metadata": {
        "id": "jvhSmnchpISD"
      },
      "source": [
        "import tensorflow as tf\n",
        "import numpy as np\n",
        "import os"
      ],
      "execution_count": 1,
      "outputs": []
    },
    {
      "cell_type": "code",
      "metadata": {
        "colab": {
          "base_uri": "https://localhost:8080/"
        },
        "id": "fwNim9mzpqdt",
        "outputId": "3e93f9a8-be6d-4875-fb68-c5bf87f9d6cf"
      },
      "source": [
        "path_to_file = tf.keras.utils.get_file('shakespeare.txt', 'https://storage.googleapis.com/download.tensorflow.org/data/shakespeare.txt')\n"
      ],
      "execution_count": 2,
      "outputs": [
        {
          "output_type": "stream",
          "text": [
            "Downloading data from https://storage.googleapis.com/download.tensorflow.org/data/shakespeare.txt\n",
            "1122304/1115394 [==============================] - 0s 0us/step\n"
          ],
          "name": "stdout"
        }
      ]
    },
    {
      "cell_type": "code",
      "metadata": {
        "colab": {
          "base_uri": "https://localhost:8080/"
        },
        "id": "vOG_kPz9pzgy",
        "outputId": "8a342854-fc67-404d-d808-eac0194be03b"
      },
      "source": [
        "text = open(path_to_file, 'rb').read()\n",
        "text = text.decode(encoding='utf-8')\n",
        "print ('Total number of characters in the corpus is:', len(text))\n",
        "print('The first 100 characters of the corpus are as follows:\\n', text[:100])"
      ],
      "execution_count": 3,
      "outputs": [
        {
          "output_type": "stream",
          "text": [
            "Total number of characters in the corpus is: 1115394\n",
            "The first 100 characters of the corpus are as follows:\n",
            " First Citizen:\n",
            "Before we proceed any further, hear me speak.\n",
            "\n",
            "All:\n",
            "Speak, speak.\n",
            "\n",
            "First Citizen:\n",
            "You\n"
          ],
          "name": "stdout"
        }
      ]
    },
    {
      "cell_type": "markdown",
      "metadata": {
        "id": "kn2ZF04fp6jz"
      },
      "source": [
        "# Vectorizing the Text"
      ]
    },
    {
      "cell_type": "code",
      "metadata": {
        "colab": {
          "base_uri": "https://localhost:8080/"
        },
        "id": "S0M5l_H2p85y",
        "outputId": "2a44ac3f-907f-4784-af4c-848594147df6"
      },
      "source": [
        "vocab = sorted(set(text))\n",
        "print ('The number of unique characters in the corpus is', len(vocab))\n",
        "print('A slice of the unique characters set:\\n', vocab[:10])"
      ],
      "execution_count": 4,
      "outputs": [
        {
          "output_type": "stream",
          "text": [
            "The number of unique characters in the corpus is 65\n",
            "A slice of the unique characters set:\n",
            " ['\\n', ' ', '!', '$', '&', \"'\", ',', '-', '.', '3']\n"
          ],
          "name": "stdout"
        }
      ]
    },
    {
      "cell_type": "code",
      "metadata": {
        "id": "YW4eJiGVqICU"
      },
      "source": [
        "# Create a mapping from unique characters to indices\n",
        "char2idx = {u:i for i, u in enumerate(vocab)}\n",
        "# Make a copy of the unique set elements in NumPy array format for later use in the decoding the predictions\n",
        "idx2char = np.array(vocab)\n",
        "# Vectorize the text with a for loop\n",
        "text_as_int = np.array([char2idx[c] for c in text])"
      ],
      "execution_count": 5,
      "outputs": []
    },
    {
      "cell_type": "markdown",
      "metadata": {
        "id": "PpGs2NfNqQaz"
      },
      "source": [
        "# Creating the Dataset"
      ]
    },
    {
      "cell_type": "code",
      "metadata": {
        "id": "igzkTbWrqLON"
      },
      "source": [
        "# Create training examples / targets\n",
        "char_dataset = tf.data.Dataset.from_tensor_slices(text_as_int) \n",
        "# for i in char_dataset.take(5): \n",
        "#   print(i.numpy())\n",
        "seq_length = 100 # The max. length for single input\n",
        "# examples_per_epoch = len(text)//(seq_length+1) # double-slash for “floor” division\n",
        "sequences = char_dataset.batch(seq_length+1, drop_remainder=True) \n",
        "# for item in sequences.take(5): \n",
        "#   print(repr(''.join(idx2char[item.numpy()])))"
      ],
      "execution_count": 6,
      "outputs": []
    },
    {
      "cell_type": "code",
      "metadata": {
        "id": "GDrZDN8WqTGj"
      },
      "source": [
        "def split_input_target(chunk):\n",
        "  input_text = chunk[:-1]\n",
        "  target_text = chunk[1:]\n",
        "  return input_text, target_text\n",
        "\n",
        "dataset = sequences.map(split_input_target)"
      ],
      "execution_count": 7,
      "outputs": []
    },
    {
      "cell_type": "code",
      "metadata": {
        "colab": {
          "base_uri": "https://localhost:8080/"
        },
        "id": "RSi87cSnqXyv",
        "outputId": "3c5f077c-ac1b-4c93-905c-10c8810a62ef"
      },
      "source": [
        "BUFFER_SIZE = 10000 # TF shuffles the data only within buffers\n",
        "\n",
        "BATCH_SIZE = 64 # Batch size\n",
        "\n",
        "dataset = dataset.shuffle(BUFFER_SIZE).batch(BATCH_SIZE, drop_remainder=True)\n",
        "\n",
        "print(dataset)"
      ],
      "execution_count": 8,
      "outputs": [
        {
          "output_type": "stream",
          "text": [
            "<BatchDataset shapes: ((64, 100), (64, 100)), types: (tf.int64, tf.int64)>\n"
          ],
          "name": "stdout"
        }
      ]
    },
    {
      "cell_type": "markdown",
      "metadata": {
        "id": "kS0l2qZ7qdR0"
      },
      "source": [
        "# Building the Model"
      ]
    },
    {
      "cell_type": "code",
      "metadata": {
        "id": "eOJw8tHoqY1p"
      },
      "source": [
        "# Length of the vocabulary in chars\n",
        "vocab_size = len(vocab)\n",
        "# The embedding dimension\n",
        "embedding_dim = 256\n",
        "# Number of RNN units\n",
        "rnn_units = 1024"
      ],
      "execution_count": 9,
      "outputs": []
    },
    {
      "cell_type": "code",
      "metadata": {
        "id": "Hg36lI7-qgSf"
      },
      "source": [
        "def build_model(vocab_size, embedding_dim, rnn_units, batch_size):\n",
        "  model = tf.keras.Sequential([\n",
        "    tf.keras.layers.Embedding(vocab_size, embedding_dim,\n",
        "                              batch_input_shape=[batch_size, None]),\n",
        "    tf.keras.layers.GRU(rnn_units,\n",
        "                        return_sequences=True,\n",
        "                        stateful=True,\n",
        "                        recurrent_initializer='glorot_uniform'),\n",
        "    tf.keras.layers.Dense(vocab_size)\n",
        "  ])\n",
        "  return model"
      ],
      "execution_count": 10,
      "outputs": []
    },
    {
      "cell_type": "code",
      "metadata": {
        "colab": {
          "base_uri": "https://localhost:8080/"
        },
        "id": "3DBy4xcCqh_2",
        "outputId": "73b85301-467d-4dff-db23-f4a693d73358"
      },
      "source": [
        "model = build_model(\n",
        "    vocab_size = len(vocab), # no. of unique characters\n",
        "    embedding_dim=embedding_dim, # 256\n",
        "    rnn_units=rnn_units, # 1024\n",
        "    batch_size=BATCH_SIZE)  # 64 for the traning\n",
        "\n",
        "model.summary()"
      ],
      "execution_count": 13,
      "outputs": [
        {
          "output_type": "stream",
          "text": [
            "Model: \"sequential_1\"\n",
            "_________________________________________________________________\n",
            "Layer (type)                 Output Shape              Param #   \n",
            "=================================================================\n",
            "embedding_1 (Embedding)      (64, None, 256)           16640     \n",
            "_________________________________________________________________\n",
            "gru_1 (GRU)                  (64, None, 1024)          3938304   \n",
            "_________________________________________________________________\n",
            "dense_1 (Dense)              (64, None, 65)            66625     \n",
            "=================================================================\n",
            "Total params: 4,021,569\n",
            "Trainable params: 4,021,569\n",
            "Non-trainable params: 0\n",
            "_________________________________________________________________\n"
          ],
          "name": "stdout"
        }
      ]
    },
    {
      "cell_type": "markdown",
      "metadata": {
        "id": "of4cAdAgqlb8"
      },
      "source": [
        "# Compiling and Training"
      ]
    },
    {
      "cell_type": "code",
      "metadata": {
        "id": "hIkDp4CrqjfW"
      },
      "source": [
        "def loss(labels, logits):\n",
        "  return tf.keras.losses.sparse_categorical_crossentropy(labels, logits, from_logits=True)\n",
        "\n",
        "# example_batch_loss  = loss(target_example_batch, example_batch_predictions)\n",
        "# print(\"Prediction shape: \", example_batch_predictions.shape, \" (batch_size, sequence_length, vocab_size)\")\n",
        "# print(\"scalar_loss:      \", example_batch_loss.numpy().mean())\n",
        "\n",
        "model.compile(optimizer='adam', loss=loss)"
      ],
      "execution_count": 14,
      "outputs": []
    },
    {
      "cell_type": "code",
      "metadata": {
        "id": "jhMyn2zHqocA"
      },
      "source": [
        "# Directory where the checkpoints will be saved\n",
        "checkpoint_dir = './training_checkpoints'\n",
        "# Name of the checkpoint files\n",
        "checkpoint_prefix = os.path.join(checkpoint_dir, \"ckpt_{epoch}\")\n",
        "\n",
        "checkpoint_callback=tf.keras.callbacks.ModelCheckpoint(\n",
        "    filepath=checkpoint_prefix,\n",
        "    save_weights_only=True)"
      ],
      "execution_count": 16,
      "outputs": []
    },
    {
      "cell_type": "code",
      "metadata": {
        "colab": {
          "base_uri": "https://localhost:8080/"
        },
        "id": "AqhIG3QsqqW6",
        "outputId": "e321c27e-8c96-4a8d-cc07-3f8e123d490d"
      },
      "source": [
        "EPOCHS = 30\n",
        "history = model.fit(dataset, \n",
        "                    epochs=EPOCHS, \n",
        "                    callbacks=[checkpoint_callback])"
      ],
      "execution_count": 17,
      "outputs": [
        {
          "output_type": "stream",
          "text": [
            "Epoch 1/30\n",
            "172/172 [==============================] - 18s 56ms/step - loss: 2.6609\n",
            "Epoch 2/30\n",
            "172/172 [==============================] - 11s 57ms/step - loss: 1.9480\n",
            "Epoch 3/30\n",
            "172/172 [==============================] - 11s 58ms/step - loss: 1.6824\n",
            "Epoch 4/30\n",
            "172/172 [==============================] - 11s 60ms/step - loss: 1.5356\n",
            "Epoch 5/30\n",
            "172/172 [==============================] - 11s 58ms/step - loss: 1.4492\n",
            "Epoch 6/30\n",
            "172/172 [==============================] - 11s 58ms/step - loss: 1.3903\n",
            "Epoch 7/30\n",
            "172/172 [==============================] - 11s 58ms/step - loss: 1.3457\n",
            "Epoch 8/30\n",
            "172/172 [==============================] - 11s 59ms/step - loss: 1.3070\n",
            "Epoch 9/30\n",
            "172/172 [==============================] - 11s 60ms/step - loss: 1.2711\n",
            "Epoch 10/30\n",
            "172/172 [==============================] - 11s 58ms/step - loss: 1.2382\n",
            "Epoch 11/30\n",
            "172/172 [==============================] - 11s 58ms/step - loss: 1.2059\n",
            "Epoch 12/30\n",
            "172/172 [==============================] - 11s 59ms/step - loss: 1.1737\n",
            "Epoch 13/30\n",
            "172/172 [==============================] - 11s 58ms/step - loss: 1.1413\n",
            "Epoch 14/30\n",
            "172/172 [==============================] - 11s 58ms/step - loss: 1.1076\n",
            "Epoch 15/30\n",
            "172/172 [==============================] - 11s 58ms/step - loss: 1.0730\n",
            "Epoch 16/30\n",
            "172/172 [==============================] - 11s 59ms/step - loss: 1.0374\n",
            "Epoch 17/30\n",
            "172/172 [==============================] - 11s 59ms/step - loss: 1.0020\n",
            "Epoch 18/30\n",
            "172/172 [==============================] - 11s 58ms/step - loss: 0.9669\n",
            "Epoch 19/30\n",
            "172/172 [==============================] - 11s 57ms/step - loss: 0.9316\n",
            "Epoch 20/30\n",
            "172/172 [==============================] - 11s 57ms/step - loss: 0.8983\n",
            "Epoch 21/30\n",
            "172/172 [==============================] - 11s 57ms/step - loss: 0.8674\n",
            "Epoch 22/30\n",
            "172/172 [==============================] - 11s 58ms/step - loss: 0.8384\n",
            "Epoch 23/30\n",
            "172/172 [==============================] - 11s 59ms/step - loss: 0.8116\n",
            "Epoch 24/30\n",
            "172/172 [==============================] - 11s 59ms/step - loss: 0.7891\n",
            "Epoch 25/30\n",
            "172/172 [==============================] - 11s 58ms/step - loss: 0.7654\n",
            "Epoch 26/30\n",
            "172/172 [==============================] - 11s 58ms/step - loss: 0.7473\n",
            "Epoch 27/30\n",
            "172/172 [==============================] - 11s 59ms/step - loss: 0.7327\n",
            "Epoch 28/30\n",
            "172/172 [==============================] - 11s 57ms/step - loss: 0.7174\n",
            "Epoch 29/30\n",
            "172/172 [==============================] - 11s 58ms/step - loss: 0.7041\n",
            "Epoch 30/30\n",
            "172/172 [==============================] - 11s 59ms/step - loss: 0.6933\n"
          ],
          "name": "stdout"
        }
      ]
    },
    {
      "cell_type": "markdown",
      "metadata": {
        "id": "WmdEm1Bzq287"
      },
      "source": [
        "# Generating New Text"
      ]
    },
    {
      "cell_type": "code",
      "metadata": {
        "colab": {
          "base_uri": "https://localhost:8080/",
          "height": 35
        },
        "id": "JI_bTq0_q34X",
        "outputId": "3533e9fd-2463-424e-ac00-51cf4d31abed"
      },
      "source": [
        "tf.train.latest_checkpoint(checkpoint_dir)"
      ],
      "execution_count": 18,
      "outputs": [
        {
          "output_type": "execute_result",
          "data": {
            "application/vnd.google.colaboratory.intrinsic+json": {
              "type": "string"
            },
            "text/plain": [
              "'./training_checkpoints/ckpt_30'"
            ]
          },
          "metadata": {
            "tags": []
          },
          "execution_count": 18
        }
      ]
    },
    {
      "cell_type": "code",
      "metadata": {
        "colab": {
          "base_uri": "https://localhost:8080/"
        },
        "id": "afAsuLUGq68C",
        "outputId": "cc61f5cc-bc55-4909-b3ae-12d725c875f6"
      },
      "source": [
        "model = build_model(vocab_size, embedding_dim, rnn_units, batch_size=1)\n",
        "model.load_weights(tf.train.latest_checkpoint(checkpoint_dir))\n",
        "model.build(tf.TensorShape([1, None]))\n",
        "model.summary()"
      ],
      "execution_count": 19,
      "outputs": [
        {
          "output_type": "stream",
          "text": [
            "Model: \"sequential_2\"\n",
            "_________________________________________________________________\n",
            "Layer (type)                 Output Shape              Param #   \n",
            "=================================================================\n",
            "embedding_2 (Embedding)      (1, None, 256)            16640     \n",
            "_________________________________________________________________\n",
            "gru_2 (GRU)                  (1, None, 1024)           3938304   \n",
            "_________________________________________________________________\n",
            "dense_2 (Dense)              (1, None, 65)             66625     \n",
            "=================================================================\n",
            "Total params: 4,021,569\n",
            "Trainable params: 4,021,569\n",
            "Non-trainable params: 0\n",
            "_________________________________________________________________\n"
          ],
          "name": "stdout"
        }
      ]
    },
    {
      "cell_type": "code",
      "metadata": {
        "id": "3mQwub5Kq9Sh"
      },
      "source": [
        "def generate_text(model, num_generate, temperature, start_string):\n",
        "  input_eval = [char2idx[s] for s in start_string] # string to numbers (vectorizing)\n",
        "  input_eval = tf.expand_dims(input_eval, 0) # dimension expansion\n",
        "  text_generated = [] # Empty string to store our results\n",
        "  model.reset_states() # Clears the hidden states in the RNN\n",
        "\n",
        "  for i in range(num_generate): #Run a loop for number of characters to generate\n",
        "    predictions = model(input_eval) # prediction for single character\n",
        "    predictions = tf.squeeze(predictions, 0) # remove the batch dimension\n",
        "\n",
        "    # using a categorical distribution to predict the character returned by the model\n",
        "    # higher temperature increases the probability of selecting a less likely character\n",
        "    # lower --> more predictable\n",
        "    predictions = predictions / temperature\n",
        "    predicted_id = tf.random.categorical(predictions, num_samples=1)[-1,0].numpy()\n",
        "\n",
        "    # The predicted character as the next input to the model\n",
        "    # along with the previous hidden state\n",
        "    # So the model makes the next prediction based on the previous character\n",
        "    input_eval = tf.expand_dims([predicted_id], 0) \n",
        "    # Also devectorize the number and add to the generated text\n",
        "    text_generated.append(idx2char[predicted_id]) \n",
        "\n",
        "  return (start_string + ''.join(text_generated))"
      ],
      "execution_count": 20,
      "outputs": []
    },
    {
      "cell_type": "code",
      "metadata": {
        "colab": {
          "base_uri": "https://localhost:8080/"
        },
        "id": "B7UF0kNOq_vo",
        "outputId": "89a75ef4-1f05-4f92-cda2-8f541d39e61a"
      },
      "source": [
        "generated_text = generate_text(\n",
        "                    model, \n",
        "                    num_generate=500, \n",
        "                    temperature=1, \n",
        "                    start_string=u\"Insomnia\")\n",
        "print(generated_text)"
      ],
      "execution_count": 23,
      "outputs": [
        {
          "output_type": "stream",
          "text": [
            "Insomniate,--I be heark'd with knock;\n",
            "The King of Norfolk, Thomas Mowbray,\n",
            "Have wrong yourself with unsturing water: I say it\n",
            "should be constant in again.\n",
            "\n",
            "Pedant:\n",
            "Ay, sir, withyou tread the case, your ears never parden him, your name\n",
            "Is not his harm.\n",
            "\n",
            "VIRGINIUS:\n",
            "Blessed up; when?\n",
            "Nay, let them forth to crave.\n",
            "\n",
            "Nurse:\n",
            "His name? a know! more much cozerets up,\n",
            "Is guilty of: but when I have been frea,\n",
            "And not thyself we were u hasty Coriolanus!\n",
            "\n",
            "CLARENCE:\n",
            "I willingly as if at me for\n",
            "his treasons of the rea\n"
          ],
          "name": "stdout"
        }
      ]
    },
    {
      "cell_type": "code",
      "metadata": {
        "id": "hPkFnDFUtP3n"
      },
      "source": [
        ""
      ],
      "execution_count": null,
      "outputs": []
    }
  ]
}